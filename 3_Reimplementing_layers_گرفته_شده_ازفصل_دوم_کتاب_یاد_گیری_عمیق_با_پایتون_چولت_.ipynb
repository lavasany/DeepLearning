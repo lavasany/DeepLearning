{
  "cells": [
    {
      "cell_type": "markdown",
      "metadata": {
        "id": "view-in-github",
        "colab_type": "text"
      },
      "source": [
        "<a href=\"https://colab.research.google.com/github/lavasany/DeepLearning/blob/main/3_Reimplementing_layers_%DA%AF%D8%B1%D9%81%D8%AA%D9%87_%D8%B4%D8%AF%D9%87_%D8%A7%D8%B2%D9%81%D8%B5%D9%84_%D8%AF%D9%88%D9%85_%DA%A9%D8%AA%D8%A7%D8%A8_%DB%8C%D8%A7%D8%AF_%DA%AF%DB%8C%D8%B1%DB%8C_%D8%B9%D9%85%DB%8C%D9%82_%D8%A8%D8%A7_%D9%BE%D8%A7%DB%8C%D8%AA%D9%88%D9%86_%DA%86%D9%88%D9%84%D8%AA_.ipynb\" target=\"_parent\"><img src=\"https://colab.research.google.com/assets/colab-badge.svg\" alt=\"Open In Colab\"/></a>"
      ]
    },
    {
      "cell_type": "code",
      "execution_count": 1,
      "id": "2ccd072d",
      "metadata": {
        "id": "2ccd072d"
      },
      "outputs": [],
      "source": [
        "import tensorflow as tf\n",
        "from tensorflow import keras\n",
        "from tensorflow.keras import layers\n",
        "from tensorflow.keras.datasets import mnist\n",
        "import numpy as np"
      ]
    },
    {
      "cell_type": "markdown",
      "id": "46c85b4b",
      "metadata": {
        "id": "46c85b4b"
      },
      "source": [
        "**Preparing the image data**\n"
      ]
    },
    {
      "cell_type": "code",
      "execution_count": 2,
      "id": "fb1d8ef7",
      "metadata": {
        "colab": {
          "base_uri": "https://localhost:8080/"
        },
        "id": "fb1d8ef7",
        "outputId": "fe4bada6-e6d9-4c2e-b885-02057388b47e"
      },
      "outputs": [
        {
          "output_type": "stream",
          "name": "stdout",
          "text": [
            "Downloading data from https://storage.googleapis.com/tensorflow/tf-keras-datasets/mnist.npz\n",
            "11490434/11490434 [==============================] - 0s 0us/step\n"
          ]
        }
      ],
      "source": [
        "(train_images, train_labels), (test_images, test_labels) = mnist.load_data()\n",
        "\n",
        "train_images = train_images.reshape((60000, 28 * 28))\n",
        "train_images = train_images.astype(\"float32\") / 255\n",
        "test_images = test_images.reshape((10000, 28 * 28))\n",
        "test_images = test_images.astype(\"float32\") / 255"
      ]
    },
    {
      "cell_type": "markdown",
      "id": "f01445a1",
      "metadata": {
        "id": "f01445a1"
      },
      "source": [
        "**__call__ in Python**"
      ]
    },
    {
      "cell_type": "code",
      "execution_count": 3,
      "id": "9c1d8c78",
      "metadata": {
        "id": "9c1d8c78"
      },
      "outputs": [],
      "source": [
        "class A:\n",
        "    def __init__(self, a, b):\n",
        "        self.a=a\n",
        "        self.b=b\n",
        "    def __call__(self, x):\n",
        "        return self.a*x+self.b\n",
        "    @property\n",
        "    def get_a(Self):\n",
        "        return Self.a"
      ]
    },
    {
      "cell_type": "code",
      "execution_count": 4,
      "id": "98d9382d",
      "metadata": {
        "id": "98d9382d"
      },
      "outputs": [],
      "source": [
        "a = A(10, 5)\n"
      ]
    },
    {
      "cell_type": "code",
      "execution_count": 5,
      "id": "bb318fa9",
      "metadata": {
        "colab": {
          "base_uri": "https://localhost:8080/"
        },
        "id": "bb318fa9",
        "outputId": "0e82fecf-322e-41b9-d377-5cb3dc40b1b2"
      },
      "outputs": [
        {
          "output_type": "execute_result",
          "data": {
            "text/plain": [
              "10"
            ]
          },
          "metadata": {},
          "execution_count": 5
        }
      ],
      "source": [
        "a.get_a"
      ]
    },
    {
      "cell_type": "code",
      "execution_count": 6,
      "id": "32201151",
      "metadata": {
        "colab": {
          "base_uri": "https://localhost:8080/"
        },
        "id": "32201151",
        "outputId": "c0639a82-13ef-44f7-be7a-d36736bd5f03"
      },
      "outputs": [
        {
          "output_type": "execute_result",
          "data": {
            "text/plain": [
              "25"
            ]
          },
          "metadata": {},
          "execution_count": 6
        }
      ],
      "source": [
        "a(2)"
      ]
    },
    {
      "cell_type": "markdown",
      "id": "82310345",
      "metadata": {
        "id": "82310345"
      },
      "source": [
        "**A simple Dense class**"
      ]
    },
    {
      "cell_type": "code",
      "execution_count": 7,
      "id": "5781296a",
      "metadata": {
        "id": "5781296a"
      },
      "outputs": [],
      "source": [
        "class NaiveDense:\n",
        "    def __init__(self, input_size, output_size, activation):\n",
        "        self.activation = activation\n",
        "\n",
        "        w_shape = (input_size, output_size)\n",
        "        w_initial_value = tf.random.uniform(w_shape, minval=0, maxval=1e-1)\n",
        "        self.W = tf.Variable(w_initial_value)\n",
        "\n",
        "        b_shape = (output_size,)\n",
        "        b_initial_value = tf.zeros(b_shape)\n",
        "        self.b = tf.Variable(b_initial_value)\n",
        "\n",
        "    def __call__(self, inputs):\n",
        "        return self.activation(tf.matmul(inputs, self.W) + self.b)\n",
        "\n",
        "    @property\n",
        "    def weights(self):\n",
        "        return [self.W, self.b]"
      ]
    },
    {
      "cell_type": "markdown",
      "id": "437a2226",
      "metadata": {
        "id": "437a2226"
      },
      "source": [
        "**A simple Sequential class**"
      ]
    },
    {
      "cell_type": "code",
      "execution_count": 8,
      "id": "a102fdfb",
      "metadata": {
        "id": "a102fdfb"
      },
      "outputs": [],
      "source": [
        "class NaiveSequential:\n",
        "    def __init__(self, layers):\n",
        "        self.layers = layers\n",
        "\n",
        "    def __call__(self, inputs):\n",
        "        x = inputs\n",
        "        for layer in self.layers:\n",
        "           x = layer(x)\n",
        "        return x\n",
        "\n",
        "    @property\n",
        "    def weights(self):\n",
        "        weights = []\n",
        "        for layer in self.layers:\n",
        "            weights += layer.weights\n",
        "        return weights"
      ]
    },
    {
      "cell_type": "markdown",
      "id": "5cc4ccee",
      "metadata": {
        "id": "5cc4ccee"
      },
      "source": [
        "**The network architecture**"
      ]
    },
    {
      "cell_type": "code",
      "execution_count": 9,
      "id": "ef383bc9",
      "metadata": {
        "id": "ef383bc9"
      },
      "outputs": [],
      "source": [
        "model = NaiveSequential([\n",
        "    NaiveDense(input_size=28 * 28, output_size=512, activation=tf.nn.relu),\n",
        "    NaiveDense(input_size=512, output_size=10, activation=tf.nn.softmax)\n",
        "])\n",
        "assert len(model.weights) == 4"
      ]
    },
    {
      "cell_type": "markdown",
      "id": "bdd19d7b",
      "metadata": {
        "id": "bdd19d7b"
      },
      "source": [
        "**Model weights!**"
      ]
    },
    {
      "cell_type": "code",
      "execution_count": 10,
      "id": "9d29b405",
      "metadata": {
        "colab": {
          "base_uri": "https://localhost:8080/"
        },
        "id": "9d29b405",
        "outputId": "6d3e5278-caa8-425a-943a-c6f056917c58"
      },
      "outputs": [
        {
          "output_type": "stream",
          "name": "stdout",
          "text": [
            "Variable:0 (784, 512)\n",
            "Variable:0 (512,)\n",
            "Variable:0 (512, 10)\n",
            "Variable:0 (10,)\n"
          ]
        }
      ],
      "source": [
        "model(train_images[0:32])\n",
        "weights_and_bias = model.weights\n",
        "for item in weights_and_bias:\n",
        "    print(item.name, item.shape)"
      ]
    },
    {
      "cell_type": "markdown",
      "id": "fb4a1fbc",
      "metadata": {
        "id": "fb4a1fbc"
      },
      "source": [
        "**Running one training step**"
      ]
    },
    {
      "cell_type": "code",
      "execution_count": 11,
      "id": "8c2f543d",
      "metadata": {
        "id": "8c2f543d"
      },
      "outputs": [],
      "source": [
        "def one_training_step(model, images_batch, labels_batch):\n",
        "    with tf.GradientTape() as tape:\n",
        "        predictions = model(images_batch)\n",
        "        per_sample_losses = tf.keras.losses.sparse_categorical_crossentropy(\n",
        "            labels_batch, predictions)\n",
        "        average_loss = tf.reduce_mean(per_sample_losses)\n",
        "    gradients = tape.gradient(average_loss, model.weights)\n",
        "    update_weights(gradients, model.weights)\n",
        "    return average_loss"
      ]
    },
    {
      "cell_type": "code",
      "execution_count": 12,
      "id": "109005bf",
      "metadata": {
        "id": "109005bf"
      },
      "outputs": [],
      "source": [
        "learning_rate = 1e-3\n",
        "\n",
        "def update_weights(gradients, weights):\n",
        "    for g, w in zip(gradients, weights):\n",
        "        w.assign_sub(g * learning_rate)"
      ]
    },
    {
      "cell_type": "code",
      "execution_count": 13,
      "id": "6961a72b",
      "metadata": {
        "id": "6961a72b"
      },
      "outputs": [],
      "source": [
        "from tensorflow.keras import optimizers\n",
        "\n",
        "optimizer = optimizers.SGD(learning_rate=1e-3)\n",
        "\n",
        "def update_weights(gradients, weights):\n",
        "    optimizer.apply_gradients(zip(gradients, weights))"
      ]
    },
    {
      "cell_type": "markdown",
      "id": "bf77f35d",
      "metadata": {
        "id": "bf77f35d"
      },
      "source": [
        "**A batch generator**"
      ]
    },
    {
      "cell_type": "code",
      "execution_count": 14,
      "id": "0fb2777f",
      "metadata": {
        "id": "0fb2777f"
      },
      "outputs": [],
      "source": [
        "import math\n",
        "\n",
        "class BatchGenerator:\n",
        "    def __init__(self, images, labels, batch_size=128):\n",
        "        assert len(images) == len(labels)\n",
        "        self.index = 0\n",
        "        self.images = images\n",
        "        self.labels = labels\n",
        "        self.batch_size = batch_size\n",
        "        self.num_batches = math.ceil(len(images) / batch_size)\n",
        "\n",
        "    def next(self):\n",
        "        images = self.images[self.index : self.index + self.batch_size]\n",
        "        labels = self.labels[self.index : self.index + self.batch_size]\n",
        "        self.index += self.batch_size\n",
        "        return images, labels"
      ]
    },
    {
      "cell_type": "markdown",
      "id": "90cad51c",
      "metadata": {
        "id": "90cad51c"
      },
      "source": [
        "**The full training loop**"
      ]
    },
    {
      "cell_type": "code",
      "execution_count": 15,
      "id": "fb081bc9",
      "metadata": {
        "id": "fb081bc9"
      },
      "outputs": [],
      "source": [
        "def fit(model, images, labels, epochs, batch_size=128):\n",
        "    for epoch_counter in range(epochs):\n",
        "        print(f\"Epoch {epoch_counter}\")\n",
        "        batch_generator = BatchGenerator(images, labels)\n",
        "        for batch_counter in range(batch_generator.num_batches):\n",
        "            images_batch, labels_batch = batch_generator.next()\n",
        "            loss = one_training_step(model, images_batch, labels_batch)\n",
        "            if batch_counter % 100 == 0:\n",
        "                print(f\"loss at batch {batch_counter}: {loss:.2f}\")"
      ]
    },
    {
      "cell_type": "markdown",
      "id": "df5ce125",
      "metadata": {
        "id": "df5ce125"
      },
      "source": [
        "**fit the model with custom train loop!**"
      ]
    },
    {
      "cell_type": "code",
      "execution_count": 16,
      "id": "850bffcb",
      "metadata": {
        "colab": {
          "base_uri": "https://localhost:8080/"
        },
        "id": "850bffcb",
        "outputId": "c10a54c7-db2b-407f-ddb0-60836c69a065"
      },
      "outputs": [
        {
          "output_type": "stream",
          "name": "stdout",
          "text": [
            "Epoch 0\n",
            "loss at batch 0: 3.80\n",
            "loss at batch 100: 2.26\n",
            "loss at batch 200: 2.21\n",
            "loss at batch 300: 2.09\n",
            "loss at batch 400: 2.27\n",
            "Epoch 1\n",
            "loss at batch 0: 1.92\n",
            "loss at batch 100: 1.90\n",
            "loss at batch 200: 1.84\n",
            "loss at batch 300: 1.71\n",
            "loss at batch 400: 1.88\n",
            "Epoch 2\n",
            "loss at batch 0: 1.60\n",
            "loss at batch 100: 1.60\n",
            "loss at batch 200: 1.52\n",
            "loss at batch 300: 1.42\n",
            "loss at batch 400: 1.56\n",
            "Epoch 3\n",
            "loss at batch 0: 1.34\n",
            "loss at batch 100: 1.36\n",
            "loss at batch 200: 1.25\n",
            "loss at batch 300: 1.20\n",
            "loss at batch 400: 1.31\n",
            "Epoch 4\n",
            "loss at batch 0: 1.14\n",
            "loss at batch 100: 1.17\n",
            "loss at batch 200: 1.05\n",
            "loss at batch 300: 1.04\n",
            "loss at batch 400: 1.13\n",
            "Epoch 5\n",
            "loss at batch 0: 0.99\n",
            "loss at batch 100: 1.03\n",
            "loss at batch 200: 0.91\n",
            "loss at batch 300: 0.92\n",
            "loss at batch 400: 1.01\n",
            "Epoch 6\n",
            "loss at batch 0: 0.88\n",
            "loss at batch 100: 0.92\n",
            "loss at batch 200: 0.81\n",
            "loss at batch 300: 0.83\n",
            "loss at batch 400: 0.92\n",
            "Epoch 7\n",
            "loss at batch 0: 0.80\n",
            "loss at batch 100: 0.84\n",
            "loss at batch 200: 0.73\n",
            "loss at batch 300: 0.76\n",
            "loss at batch 400: 0.85\n",
            "Epoch 8\n",
            "loss at batch 0: 0.74\n",
            "loss at batch 100: 0.77\n",
            "loss at batch 200: 0.67\n",
            "loss at batch 300: 0.70\n",
            "loss at batch 400: 0.79\n",
            "Epoch 9\n",
            "loss at batch 0: 0.69\n",
            "loss at batch 100: 0.71\n",
            "loss at batch 200: 0.62\n",
            "loss at batch 300: 0.66\n",
            "loss at batch 400: 0.75\n"
          ]
        }
      ],
      "source": [
        "fit(model, train_images, train_labels, epochs=10, batch_size=128)"
      ]
    },
    {
      "cell_type": "markdown",
      "id": "dfc5367d",
      "metadata": {
        "id": "dfc5367d"
      },
      "source": [
        "**Evaluating the model on new data**"
      ]
    },
    {
      "cell_type": "code",
      "execution_count": 17,
      "id": "baf25bb7",
      "metadata": {
        "id": "baf25bb7",
        "outputId": "b301c5c7-6b95-4d92-8577-c2f3cc4d36c3",
        "colab": {
          "base_uri": "https://localhost:8080/"
        }
      },
      "outputs": [
        {
          "output_type": "stream",
          "name": "stdout",
          "text": [
            "accuracy: 0.81\n"
          ]
        }
      ],
      "source": [
        "predictions = model(test_images)\n",
        "predictions = predictions.numpy()\n",
        "predicted_labels = np.argmax(predictions, axis=1)\n",
        "matches = predicted_labels == test_labels\n",
        "print(f\"accuracy: {matches.mean():.2f}\")"
      ]
    }
  ],
  "metadata": {
    "colab": {
      "provenance": [],
      "include_colab_link": true
    },
    "kernelspec": {
      "display_name": "Python 3 (ipykernel)",
      "language": "python",
      "name": "python3"
    },
    "language_info": {
      "codemirror_mode": {
        "name": "ipython",
        "version": 3
      },
      "file_extension": ".py",
      "mimetype": "text/x-python",
      "name": "python",
      "nbconvert_exporter": "python",
      "pygments_lexer": "ipython3",
      "version": "3.9.13"
    },
    "accelerator": "GPU",
    "gpuClass": "standard"
  },
  "nbformat": 4,
  "nbformat_minor": 5
}