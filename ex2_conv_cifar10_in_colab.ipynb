{
  "cells": [
    {
      "cell_type": "markdown",
      "metadata": {
        "id": "view-in-github",
        "colab_type": "text"
      },
      "source": [
        "<a href=\"https://colab.research.google.com/github/lavasany/DeepLearning/blob/main/ex2_conv_cifar10_in_colab.ipynb\" target=\"_parent\"><img src=\"https://colab.research.google.com/assets/colab-badge.svg\" alt=\"Open In Colab\"/></a>"
      ]
    },
    {
      "cell_type": "markdown",
      "metadata": {
        "id": "WFV6FgFXXOiZ"
      },
      "source": [
        "<center><div style=\"direction:rtl;font-family:B Lotus, B Nazanin, Tahoma\">به نام خدا</div></center>\n",
        "\n",
        "<h1><center><div style=\"direction:rtl;font-family:B Lotus, B Nazanin, Tahoma\">تمرین عملی 2: طبقه بندی تصاویر Cifar10 با شبکه های کانولوشنالی روی googleColab</div></center></h1>\n",
        "\n",
        "[![Run in Google Colab](./images/colab.png)](https://colab.research.google.com/github/alireza-akhavan/SRU-deeplearning-workshop/blob/master/homework/ex2-conv-cifar10-in-colab.ipynb)"
      ]
    },
    {
      "cell_type": "markdown",
      "metadata": {
        "id": "NrHMS9xBXOih"
      },
      "source": [
        "## <div style=\"direction:rtl;text-align:right;font-family:B Lotus, B Nazanin, Tahoma\">صورت مساله</div>\n",
        "\n",
        "\n",
        "<div style=\"direction:rtl;text-align:right;font-family:Tahoma\">\n",
        "با شبکه های کانولوشنالی آشنا شدیم<br>\n",
        "توصیه می‌شود حتما بعد از تمرین اول این تمرین را حل کنید و قبل از این تمرین نوت بوک زیر را  مرور کنید:\n",
        "</div>\n",
        "\n",
        "[06_ConvolutionalNeuralNetwork-Hoda-Keras.ipynb ](https://nbviewer.jupyter.org/github/alireza-akhavan/SRU-deeplearning-workshop/blob/master/06_ConvolutionalNeuralNetwork-Hoda-Keras.ipynb)\n",
        "\n",
        "<div style=\"direction:rtl;text-align:right;font-family:Tahoma\">\n",
        "در این تمرین از مجموعه داده تصویری cifar10 استفاده خواهیم کرد. \n",
        "<br>\n",
        "خیلی از اوقات ممکنه دسترسی به GPU نداشته باشیم. حخوشبختانه سرویس های آنلاین و رایگانی هستند که توان محاسباتی رایگان در اختیارمان میگذراند. در این تمرین از شما خواسته شده که این نوت بوک را در گوگل کولب اجرا کنید.\n",
        "<br>\n",
        " قبلا در مورد گوگل کولب دو پست آموزشی نوشته شده است که در صورت تمایل به کسب اطلاعات بیشتر میتوانید بخوانید.\n",
        "    اما برای اجرا این تمرین نیازی به این جزئیات نخواهید داشت.\n",
        "</div>\n",
        "\n",
        "[آشنایی با سرویس ابری Google Colab ](http://blog.class.vision/1397/02/google-colab/)\n",
        "\n",
        "[اتصال مستقیم سرویس کولب (Google Colab) به درایو (Google Drive) از طریق فایل سیستم FUSE ](http://blog.class.vision/1397/04/%D8%A7%D8%AA%D8%B5%D8%A7%D9%84-%D9%85%D8%B3%D8%AA%D9%82%DB%8C%D9%85-%D8%B3%D8%B1%D9%88%DB%8C%D8%B3-%DA%A9%D9%88%D9%84%D8%A8-google-colab-%D8%A8%D9%87-%D8%AF%D8%B1%D8%A7%DB%8C%D9%88-google-drive/)\n"
      ]
    },
    {
      "cell_type": "markdown",
      "metadata": {
        "id": "aSKj6ytuXOij"
      },
      "source": [
        "## <div style=\"direction:rtl;text-align:right;font-family:B Lotus, B Nazanin, Tahoma\">لود کتابخانه های مورد نیاز </div>\n",
        "<div style=\"direction:rtl;text-align:right;font-family:Tahoma\">\n",
        "کتابخانه های مورد نیاز این تمرین لود شده اند\n",
        "<br>\n",
        "در صورت نیاز میتوانید کتابخانه های بیشتری لود کنید:\n",
        "</div>"
      ]
    },
    {
      "cell_type": "code",
      "execution_count": 3,
      "metadata": {
        "id": "Nb5ckiszXOil"
      },
      "outputs": [],
      "source": [
        "from tensorflow import keras\n",
        "from keras.models import Sequential\n",
        "from keras.layers import Dense, Flatten, Dropout\n",
        "from keras.layers import Conv2D, MaxPooling2D\n",
        "from keras.datasets import cifar10\n",
        "import numpy as np\n",
        "import matplotlib.pyplot as plt\n",
        "%matplotlib inline"
      ]
    },
    {
      "cell_type": "code",
      "execution_count": 4,
      "metadata": {
        "id": "owLux_enXOin"
      },
      "outputs": [],
      "source": [
        "cifar=cifar10"
      ]
    },
    {
      "cell_type": "markdown",
      "metadata": {
        "id": "bh4pBC6nXOip"
      },
      "source": [
        "## <div style=\"direction:rtl;text-align:right;font-family:B Lotus, B Nazanin, Tahoma\">مجموعه داده ی Cifar10 </div>\n",
        "<div style=\"direction:rtl;text-align:right;font-family:Tahoma\">\n",
        "<br>\n",
        "این مجموعه داده تصاویر رنگی در اندازه ی 32 در 32 و در 10 کلاس مختلف شامل ماشین، کامیون، اسب و ... است که در چارچوب کراس موجود است و از همان استفاده میکنیم.\n",
        "<br>\n",
        "اطلاعات بیشتر در مورد این مجموعه داده را از سایت این مجموعه داده میتوانید مطالعه کنید:\n",
        "<br>\n",
        "</div>\n",
        "\n",
        "https://www.cs.toronto.edu/~kriz/cifar.html"
      ]
    },
    {
      "cell_type": "code",
      "execution_count": 5,
      "metadata": {
        "colab": {
          "base_uri": "https://localhost:8080/"
        },
        "id": "cIEOHJ62XOiq",
        "outputId": "658b9ef0-316a-4f97-ae62-ae28061eb7e5"
      },
      "outputs": [
        {
          "output_type": "stream",
          "name": "stdout",
          "text": [
            "Downloading data from https://www.cs.toronto.edu/~kriz/cifar-10-python.tar.gz\n",
            "170500096/170498071 [==============================] - 14s 0us/step\n",
            "170508288/170498071 [==============================] - 14s 0us/step\n"
          ]
        }
      ],
      "source": [
        "(x_train, y_train), (x_test, y_test) = cifar10.load_data()"
      ]
    },
    {
      "cell_type": "markdown",
      "metadata": {
        "id": "8lCwUiQGXOir"
      },
      "source": [
        "## <div style=\"direction:rtl;text-align:right;font-family:B Lotus, B Nazanin, Tahoma\">نگاهی به مجموعه داده بیندازیم...</div>\n",
        "<div style=\"direction:rtl;text-align:right;font-family:Tahoma\">\n",
        "در زیر تصویری که در اندیس 7-ام این مجموعه داده قرار دارد را مشاهده می‌کنیم. این شماره را را به دلخوه عوض کنید و چند تصویر دیگر این مجموعه داده را ببینید.\n",
        "</div>\n"
      ]
    },
    {
      "cell_type": "code",
      "execution_count": 6,
      "metadata": {
        "colab": {
          "base_uri": "https://localhost:8080/",
          "height": 284
        },
        "id": "KV2h-wRMXOir",
        "outputId": "7783fbe1-dbad-44c9-ecf8-f2ae1f6a53cd"
      },
      "outputs": [
        {
          "output_type": "execute_result",
          "data": {
            "text/plain": [
              "<matplotlib.image.AxesImage at 0x7f7a130bea90>"
            ]
          },
          "metadata": {},
          "execution_count": 6
        },
        {
          "output_type": "display_data",
          "data": {
            "text/plain": [
              "<Figure size 432x288 with 1 Axes>"
            ],
            "image/png": "[encoded data removed]"
          },
          "metadata": {
            "needs_background": "light"
          }
        }
      ],
      "source": [
        "plt.imshow(x_train[1])"
      ]
    },
    {
      "cell_type": "markdown",
      "metadata": {
        "id": "CrIgdcpsXOis"
      },
      "source": [
        "# <div style=\"direction:rtl;text-align:right;font-family:B Lotus, B Nazanin, Tahoma\">سوال 1:</div>\n",
        "<div style=\"direction:rtl;text-align:right;font-family:Tahoma\">\n",
        "ماتریس های تصویر را تبدیل به نوع داده ای float32 کنید و مقادیر پیکسل ها را نرمال کنید و بین 0 و 1 بیاورید.\n",
        "<br>\n",
        "<b>راهنمایی: </b>\n",
        "شما باید متد astype را صدا بزنید و در نهایت مقادیر پیکسل ها را تقسیم بر 255 کنید.</div>"
      ]
    },
    {
      "cell_type": "code",
      "execution_count": 7,
      "metadata": {
        "id": "YOuBqqXIXOit"
      },
      "outputs": [],
      "source": [
        "x_train = x_train.astype('float32')\n",
        "x_test = x_test.astype('float32')\n",
        "x_train /= 255\n",
        "x_test /= 255"
      ]
    },
    {
      "cell_type": "markdown",
      "metadata": {
        "id": "ooxmvOHEXOit"
      },
      "source": [
        "# <div style=\"direction:rtl;text-align:right;font-family:B Lotus, B Nazanin, Tahoma\">سوال 2:</div>\n",
        "<div style=\"direction:rtl;text-align:right;font-family:Tahoma\">\n",
        "همان طور که میبینید لیبل ها از نوع عددی هستند. آن ها را تبدیل به فرمت one-hot کنید.<br>\n",
        "</div>\n"
      ]
    },
    {
      "cell_type": "markdown",
      "metadata": {
        "id": "TPLaOg7VXOiu"
      },
      "source": [
        "<hr>\n",
        "<div style=\"direction:rtl;text-align:right;font-family:Tahoma\">\n",
        "تعدادی از لیبل ها قبل از تبدیل به فرمت one-hot:</div>"
      ]
    },
    {
      "cell_type": "code",
      "source": [
        "y_train = keras.utils.to_categorical(y_train, num_classes=10)\n",
        "y_test = keras.utils.to_categorical(y_test, num_classes=10)"
      ],
      "metadata": {
        "id": "lhwygdYzhTdx"
      },
      "execution_count": 8,
      "outputs": []
    },
    {
      "cell_type": "markdown",
      "metadata": {
        "id": "3mz4dH24XOiv"
      },
      "source": [
        "<div style=\"direction:rtl;text-align:right;font-family:Tahoma\">\n",
        "تعدادی از لیبل ها بعد از تبدیل به فرمت one-hot:</div>"
      ]
    },
    {
      "cell_type": "code",
      "execution_count": 9,
      "metadata": {
        "colab": {
          "base_uri": "https://localhost:8080/"
        },
        "id": "QieDYPYLXOiw",
        "outputId": "00ec2c7f-4bc7-4601-d534-3941e3d0fae9"
      },
      "outputs": [
        {
          "output_type": "execute_result",
          "data": {
            "text/plain": [
              "array([[0., 0., 0., 0., 0., 0., 1., 0., 0., 0.],\n",
              "       [0., 0., 0., 0., 0., 0., 0., 0., 0., 1.],\n",
              "       [0., 0., 0., 0., 0., 0., 0., 0., 0., 1.],\n",
              "       [0., 0., 0., 0., 1., 0., 0., 0., 0., 0.],\n",
              "       [0., 1., 0., 0., 0., 0., 0., 0., 0., 0.],\n",
              "       [0., 1., 0., 0., 0., 0., 0., 0., 0., 0.],\n",
              "       [0., 0., 1., 0., 0., 0., 0., 0., 0., 0.],\n",
              "       [0., 0., 0., 0., 0., 0., 0., 1., 0., 0.],\n",
              "       [0., 0., 0., 0., 0., 0., 0., 0., 1., 0.],\n",
              "       [0., 0., 0., 1., 0., 0., 0., 0., 0., 0.]], dtype=float32)"
            ]
          },
          "metadata": {},
          "execution_count": 9
        }
      ],
      "source": [
        "y_train[0:10]"
      ]
    },
    {
      "cell_type": "markdown",
      "metadata": {
        "id": "qG-DdggHXOiw"
      },
      "source": [
        "# <div style=\"direction:rtl;text-align:right;font-family:B Lotus, B Nazanin, Tahoma\">سوال 3:</div>\n",
        "<div style=\"direction:rtl;text-align:right;font-family:Tahoma\">\n",
        "یک شبکه کانولوشنالی با معماری زیر بسازید:\n",
        "<ul>\n",
        "    <li>\n",
        "    یک لایه کانولوشنی با32 فیلتر با سایز فیلتر 3x3 و تابع فعالیت relu\n",
        "    </li>\n",
        "    <li>\n",
        "    لایه ی pooling با pool_size=(2,2)\n",
        "    </li>\n",
        "    <li>\n",
        "    یک لایه کانولوشنی با32 فیلتر با سایز فیلتر 3x3 و تابع فعالیت relu\n",
        "    </li>\n",
        "    <li>\n",
        "    لایه ی pooling با pool_size=(2,2)\n",
        "    </li>\n",
        "    <li>\n",
        "    یک لایه کانولوشنی با64 فیلتر با سایز فیلتر 3x3 و تابع فعالیت relu\n",
        "    </li>\n",
        "    <li>\n",
        "    لایه ی pooling با pool_size=(2,2)\n",
        "    </li>\n",
        "    <li>\n",
        "    استفاده از لایه ی Flatten() . به نظرتون چرا؟\n",
        "    </li>    \n",
        "    <li>\n",
        "    یک لایه Dropout با ترخ 0.5.\n",
        "    </li>\n",
        "    <li>\n",
        "    یک لایه softmax برای احتمالات خروجی. به نظرتون این لایه چند نوران میخواهد؟\n",
        "    </li>    \n",
        " \n",
        "</ul>\n",
        "</div>\n"
      ]
    },
    {
      "cell_type": "code",
      "source": [
        "import keras\n",
        "from keras import layers\n",
        "from keras.models import Sequential\n",
        "from keras.layers import Dense, Dropout, Activation"
      ],
      "metadata": {
        "id": "p6iR7jkxlLSb"
      },
      "execution_count": 10,
      "outputs": []
    },
    {
      "cell_type": "code",
      "execution_count": 11,
      "metadata": {
        "id": "GVX0f1riXOix"
      },
      "outputs": [],
      "source": [
        "\n",
        "model = Sequential()\n",
        "model.add(layers.Conv2D(32, (3, 3), activation='relu'))\n",
        "model.add(layers.MaxPooling2D((2, 2)))\n",
        "model.add(layers.Conv2D(32, (3, 3), activation='relu'))\n",
        "model.add(layers.MaxPooling2D((2, 2)))\n",
        "model.add(layers.Conv2D(64, (3, 3), activation='relu'))\n",
        "model.add(layers.MaxPooling2D((2, 2)))\n",
        "model.add(layers.Flatten())\n",
        "model.add(Dropout(0.5))\n",
        "model.add(layers.Dense(10, activation='softmax'))\n"
      ]
    },
    {
      "cell_type": "markdown",
      "metadata": {
        "id": "oFh5rDtFXOix"
      },
      "source": [
        "# <div style=\"direction:rtl;text-align:right;font-family:B Lotus, B Nazanin, Tahoma\">سوال 4:</div>\n",
        "<div style=\"direction:rtl;text-align:right;font-family:Tahoma\">\n",
        "مدل را کامپایل کنید و به عنوان optimizer متغیر opt_rms به تابع ارسال کنید. </div>\n"
      ]
    },
    {
      "cell_type": "code",
      "source": [
        "from tensorflow.keras import optimizers"
      ],
      "metadata": {
        "id": "_8hgriV_otnc"
      },
      "execution_count": 12,
      "outputs": []
    },
    {
      "cell_type": "code",
      "source": [
        "model.compile(loss='binary_crossentropy',\n",
        "              optimizer=optimizers.RMSprop(lr=1e-6),\n",
        "              metrics=['acc'])"
      ],
      "metadata": {
        "colab": {
          "base_uri": "https://localhost:8080/"
        },
        "id": "tfvpA35vozdB",
        "outputId": "fdde9e4c-6851-4ebf-d857-f99b8d16181e"
      },
      "execution_count": 13,
      "outputs": [
        {
          "output_type": "stream",
          "name": "stderr",
          "text": [
            "/usr/local/lib/python3.7/dist-packages/keras/optimizer_v2/rmsprop.py:130: UserWarning: The `lr` argument is deprecated, use `learning_rate` instead.\n",
            "  super(RMSprop, self).__init__(name, **kwargs)\n"
          ]
        }
      ]
    },
    {
      "cell_type": "markdown",
      "metadata": {
        "id": "Zoel1c2rXOiy"
      },
      "source": [
        "# <div style=\"direction:rtl;text-align:right;font-family:B Lotus, B Nazanin, Tahoma\">سوال 5:</div>\n",
        "<div style=\"direction:rtl;text-align:right;font-family:Tahoma\">\n",
        "با فراخوانی متد fit روی مدل آن را آموزش بدهید. برای سادگی25 ایپاک با سایز بچ 64 بزنید. \n",
        "    <br>\n",
        " به عنوان دیتای validation نیز x_test و y_test را ارسال کنید که در هر سری کارایی روی داده های تست اعلام شود.\n",
        "</div>"
      ]
    },
    {
      "cell_type": "code",
      "execution_count": 14,
      "metadata": {
        "id": "qlIep9gRXOiy",
        "outputId": "d3381d97-3c71-4023-9c1f-e33b07841a9d",
        "colab": {
          "base_uri": "https://localhost:8080/"
        }
      },
      "outputs": [
        {
          "output_type": "stream",
          "name": "stdout",
          "text": [
            "Epoch 1/25\n",
            "782/782 [==============================] - 18s 6ms/step - loss: 0.7049 - acc: 0.0962 - val_loss: 0.6911 - val_acc: 0.0992\n",
            "Epoch 2/25\n",
            "782/782 [==============================] - 4s 5ms/step - loss: 0.6828 - acc: 0.0967 - val_loss: 0.6695 - val_acc: 0.0986\n",
            "Epoch 3/25\n",
            "782/782 [==============================] - 4s 5ms/step - loss: 0.6612 - acc: 0.0970 - val_loss: 0.6466 - val_acc: 0.0988\n",
            "Epoch 4/25\n",
            "782/782 [==============================] - 4s 5ms/step - loss: 0.6381 - acc: 0.0982 - val_loss: 0.6207 - val_acc: 0.0996\n",
            "Epoch 5/25\n",
            "782/782 [==============================] - 4s 5ms/step - loss: 0.6124 - acc: 0.0979 - val_loss: 0.5912 - val_acc: 0.1059\n",
            "Epoch 6/25\n",
            "782/782 [==============================] - 4s 5ms/step - loss: 0.5834 - acc: 0.0970 - val_loss: 0.5577 - val_acc: 0.0993\n",
            "Epoch 7/25\n",
            "782/782 [==============================] - 4s 5ms/step - loss: 0.5520 - acc: 0.0996 - val_loss: 0.5207 - val_acc: 0.0975\n",
            "Epoch 8/25\n",
            "782/782 [==============================] - 4s 6ms/step - loss: 0.5190 - acc: 0.0987 - val_loss: 0.4809 - val_acc: 0.0974\n",
            "Epoch 9/25\n",
            "782/782 [==============================] - 4s 6ms/step - loss: 0.4848 - acc: 0.0998 - val_loss: 0.4408 - val_acc: 0.0965\n",
            "Epoch 10/25\n",
            "782/782 [==============================] - 4s 6ms/step - loss: 0.4538 - acc: 0.0978 - val_loss: 0.4039 - val_acc: 0.0971\n",
            "Epoch 11/25\n",
            "782/782 [==============================] - 4s 5ms/step - loss: 0.4268 - acc: 0.0984 - val_loss: 0.3738 - val_acc: 0.0961\n",
            "Epoch 12/25\n",
            "782/782 [==============================] - 4s 6ms/step - loss: 0.4071 - acc: 0.1001 - val_loss: 0.3532 - val_acc: 0.0960\n",
            "Epoch 13/25\n",
            "782/782 [==============================] - 4s 6ms/step - loss: 0.3950 - acc: 0.0979 - val_loss: 0.3426 - val_acc: 0.0941\n",
            "Epoch 14/25\n",
            "782/782 [==============================] - 4s 6ms/step - loss: 0.3883 - acc: 0.1000 - val_loss: 0.3383 - val_acc: 0.0934\n",
            "Epoch 15/25\n",
            "782/782 [==============================] - 7s 9ms/step - loss: 0.3837 - acc: 0.0986 - val_loss: 0.3362 - val_acc: 0.0951\n",
            "Epoch 16/25\n",
            "782/782 [==============================] - 4s 5ms/step - loss: 0.3794 - acc: 0.1019 - val_loss: 0.3350 - val_acc: 0.0959\n",
            "Epoch 17/25\n",
            "782/782 [==============================] - 4s 6ms/step - loss: 0.3774 - acc: 0.0977 - val_loss: 0.3342 - val_acc: 0.0982\n",
            "Epoch 18/25\n",
            "782/782 [==============================] - 4s 6ms/step - loss: 0.3745 - acc: 0.1003 - val_loss: 0.3336 - val_acc: 0.1001\n",
            "Epoch 19/25\n",
            "782/782 [==============================] - 4s 5ms/step - loss: 0.3721 - acc: 0.1000 - val_loss: 0.3332 - val_acc: 0.1006\n",
            "Epoch 20/25\n",
            "782/782 [==============================] - 5s 6ms/step - loss: 0.3699 - acc: 0.1012 - val_loss: 0.3328 - val_acc: 0.1009\n",
            "Epoch 21/25\n",
            "782/782 [==============================] - 5s 6ms/step - loss: 0.3679 - acc: 0.1009 - val_loss: 0.3324 - val_acc: 0.1016\n",
            "Epoch 22/25\n",
            "782/782 [==============================] - 4s 5ms/step - loss: 0.3669 - acc: 0.0994 - val_loss: 0.3322 - val_acc: 0.1038\n",
            "Epoch 23/25\n",
            "782/782 [==============================] - 4s 6ms/step - loss: 0.3654 - acc: 0.0997 - val_loss: 0.3319 - val_acc: 0.1047\n",
            "Epoch 24/25\n",
            "782/782 [==============================] - 4s 6ms/step - loss: 0.3642 - acc: 0.1021 - val_loss: 0.3316 - val_acc: 0.1056\n",
            "Epoch 25/25\n",
            "782/782 [==============================] - 4s 6ms/step - loss: 0.3633 - acc: 0.0992 - val_loss: 0.3314 - val_acc: 0.1083\n"
          ]
        }
      ],
      "source": [
        "history = model.fit(x_train, y_train,\n",
        "          epochs=25, batch_size=64, validation_data = (x_test, y_test))"
      ]
    },
    {
      "cell_type": "markdown",
      "metadata": {
        "id": "LUKEYCtJXOiz"
      },
      "source": [
        "# <div style=\"direction:rtl;text-align:right;font-family:B Lotus, B Nazanin, Tahoma\">سوال 6:</div>\n",
        "<div style=\"direction:rtl;text-align:right;font-family:Tahoma\">\n",
        "شبکه و هایپرپارامترهای این شبکه را به هر نحوی دوست دارید تغییر دهید تا دقت روی دادگان تست را به حداکثر برسانید.\n",
        "</div>\n"
      ]
    },
    {
      "cell_type": "code",
      "source": [
        "x_val = x_test[:200]\n",
        "x_test = x_test[200:]\n",
        "y_val = y_test[:200]\n",
        "y_test = y_test[200:]"
      ],
      "metadata": {
        "id": "tEt--qpKhVNd"
      },
      "execution_count": 31,
      "outputs": []
    },
    {
      "cell_type": "code",
      "source": [
        "model = Sequential()\n",
        "model.add(layers.Conv2D(32, (3, 3), activation='relu'))\n",
        "model.add(layers.MaxPooling2D((2, 2)))\n",
        "model.add(layers.Conv2D(64, (3, 3), activation='relu'))\n",
        "model.add(layers.MaxPooling2D((2, 2)))\n",
        "model.add(layers.Conv2D(64, (3, 3), activation='relu'))\n",
        "model.add(layers.Flatten())\n",
        "model.add(layers.Dense(64, activation='relu'))\n",
        "model.add(Dropout(0.5))\n",
        "model.add(layers.Dense(10, activation='softmax'))"
      ],
      "metadata": {
        "id": "jSAZxKiOhcjS"
      },
      "execution_count": 39,
      "outputs": []
    },
    {
      "cell_type": "code",
      "source": [
        "model.compile(loss='categorical_crossentropy',\n",
        "              optimizer='adam',\n",
        "              metrics=['accuracy'])"
      ],
      "metadata": {
        "id": "cTTL6b-1hhOS"
      },
      "execution_count": 40,
      "outputs": []
    },
    {
      "cell_type": "code",
      "source": [
        "from keras.callbacks import Callback"
      ],
      "metadata": {
        "id": "fu2J4Y8jiUST"
      },
      "execution_count": 41,
      "outputs": []
    },
    {
      "cell_type": "code",
      "source": [
        "class Stopat75(Callback):\n",
        "    def on_epoch_end(self, epoch, logs={}):\n",
        "        print(logs)\n",
        "        if(logs.get('val_accuracy')>0.75):\n",
        "            print(\"\\n**********training stoped due to validation accuracy greater than 75%!\")\n",
        "            self.model.stop_training = True\n",
        "            \n",
        "stop_callback = Stopat75()"
      ],
      "metadata": {
        "id": "ezWT2fmbhl5s"
      },
      "execution_count": 42,
      "outputs": []
    },
    {
      "cell_type": "code",
      "source": [
        "history = model.fit(x_train, y_train,\n",
        "          epochs=200, batch_size=256, validation_data = (x_val, y_val),callbacks=[stop_callback])"
      ],
      "metadata": {
        "colab": {
          "base_uri": "https://localhost:8080/"
        },
        "id": "S8PoKghJiCBT",
        "outputId": "a30f6b8c-6edd-45f0-cbcf-d7277b3e292a"
      },
      "execution_count": 43,
      "outputs": [
        {
          "output_type": "stream",
          "name": "stdout",
          "text": [
            "Epoch 1/200\n",
            "193/196 [============================>.] - ETA: 0s - loss: 1.9083 - accuracy: 0.2944{'loss': 1.9059474468231201, 'accuracy': 0.29495999217033386, 'val_loss': 1.7074512243270874, 'val_accuracy': 0.3799999952316284}\n",
            "196/196 [==============================] - 4s 13ms/step - loss: 1.9059 - accuracy: 0.2950 - val_loss: 1.7075 - val_accuracy: 0.3800\n",
            "Epoch 2/200\n",
            "195/196 [============================>.] - ETA: 0s - loss: 1.5671 - accuracy: 0.4294{'loss': 1.5669019222259521, 'accuracy': 0.4294399917125702, 'val_loss': 1.4375436305999756, 'val_accuracy': 0.5299999713897705}\n",
            "196/196 [==============================] - 2s 10ms/step - loss: 1.5669 - accuracy: 0.4294 - val_loss: 1.4375 - val_accuracy: 0.5300\n",
            "Epoch 3/200\n",
            "196/196 [==============================] - ETA: 0s - loss: 1.4479 - accuracy: 0.4768{'loss': 1.4479268789291382, 'accuracy': 0.47675999999046326, 'val_loss': 1.3519575595855713, 'val_accuracy': 0.5099999904632568}\n",
            "196/196 [==============================] - 2s 10ms/step - loss: 1.4479 - accuracy: 0.4768 - val_loss: 1.3520 - val_accuracy: 0.5100\n",
            "Epoch 4/200\n",
            "192/196 [============================>.] - ETA: 0s - loss: 1.3753 - accuracy: 0.5067{'loss': 1.3755788803100586, 'accuracy': 0.5064399838447571, 'val_loss': 1.2338401079177856, 'val_accuracy': 0.5799999833106995}\n",
            "196/196 [==============================] - 2s 10ms/step - loss: 1.3756 - accuracy: 0.5064 - val_loss: 1.2338 - val_accuracy: 0.5800\n",
            "Epoch 5/200\n",
            "194/196 [============================>.] - ETA: 0s - loss: 1.3087 - accuracy: 0.5357{'loss': 1.30797278881073, 'accuracy': 0.535539984703064, 'val_loss': 1.1968835592269897, 'val_accuracy': 0.5849999785423279}\n",
            "196/196 [==============================] - 2s 10ms/step - loss: 1.3080 - accuracy: 0.5355 - val_loss: 1.1969 - val_accuracy: 0.5850\n",
            "Epoch 6/200\n",
            "191/196 [============================>.] - ETA: 0s - loss: 1.2472 - accuracy: 0.5593{'loss': 1.2455859184265137, 'accuracy': 0.5601800084114075, 'val_loss': 1.2008767127990723, 'val_accuracy': 0.6050000190734863}\n",
            "196/196 [==============================] - 2s 10ms/step - loss: 1.2456 - accuracy: 0.5602 - val_loss: 1.2009 - val_accuracy: 0.6050\n",
            "Epoch 7/200\n",
            "194/196 [============================>.] - ETA: 0s - loss: 1.2015 - accuracy: 0.5774{'loss': 1.2015290260314941, 'accuracy': 0.5774999856948853, 'val_loss': 1.0658186674118042, 'val_accuracy': 0.6150000095367432}\n",
            "196/196 [==============================] - 2s 10ms/step - loss: 1.2015 - accuracy: 0.5775 - val_loss: 1.0658 - val_accuracy: 0.6150\n",
            "Epoch 8/200\n",
            "194/196 [============================>.] - ETA: 0s - loss: 1.1604 - accuracy: 0.5934{'loss': 1.1607781648635864, 'accuracy': 0.593280017375946, 'val_loss': 1.0142303705215454, 'val_accuracy': 0.675000011920929}\n",
            "196/196 [==============================] - 2s 11ms/step - loss: 1.1608 - accuracy: 0.5933 - val_loss: 1.0142 - val_accuracy: 0.6750\n",
            "Epoch 9/200\n",
            "193/196 [============================>.] - ETA: 0s - loss: 1.1095 - accuracy: 0.6121{'loss': 1.1095609664916992, 'accuracy': 0.6120799779891968, 'val_loss': 0.9998179078102112, 'val_accuracy': 0.6650000214576721}\n",
            "196/196 [==============================] - 2s 10ms/step - loss: 1.1096 - accuracy: 0.6121 - val_loss: 0.9998 - val_accuracy: 0.6650\n",
            "Epoch 10/200\n",
            "195/196 [============================>.] - ETA: 0s - loss: 1.0800 - accuracy: 0.6242{'loss': 1.0803465843200684, 'accuracy': 0.6240800023078918, 'val_loss': 0.9825236797332764, 'val_accuracy': 0.6650000214576721}\n",
            "196/196 [==============================] - 2s 10ms/step - loss: 1.0803 - accuracy: 0.6241 - val_loss: 0.9825 - val_accuracy: 0.6650\n",
            "Epoch 11/200\n",
            "195/196 [============================>.] - ETA: 0s - loss: 1.0497 - accuracy: 0.6359{'loss': 1.0498549938201904, 'accuracy': 0.635699987411499, 'val_loss': 0.9566922187805176, 'val_accuracy': 0.6949999928474426}\n",
            "196/196 [==============================] - 2s 10ms/step - loss: 1.0499 - accuracy: 0.6357 - val_loss: 0.9567 - val_accuracy: 0.6950\n",
            "Epoch 12/200\n",
            "196/196 [==============================] - ETA: 0s - loss: 1.0334 - accuracy: 0.6426{'loss': 1.0333665609359741, 'accuracy': 0.6426200270652771, 'val_loss': 0.997661292552948, 'val_accuracy': 0.6549999713897705}\n",
            "196/196 [==============================] - 2s 10ms/step - loss: 1.0334 - accuracy: 0.6426 - val_loss: 0.9977 - val_accuracy: 0.6550\n",
            "Epoch 13/200\n",
            "195/196 [============================>.] - ETA: 0s - loss: 0.9966 - accuracy: 0.6538{'loss': 0.996343731880188, 'accuracy': 0.6539199948310852, 'val_loss': 0.9120474457740784, 'val_accuracy': 0.7049999833106995}\n",
            "196/196 [==============================] - 2s 10ms/step - loss: 0.9963 - accuracy: 0.6539 - val_loss: 0.9120 - val_accuracy: 0.7050\n",
            "Epoch 14/200\n",
            "191/196 [============================>.] - ETA: 0s - loss: 0.9782 - accuracy: 0.6592{'loss': 0.9788743853569031, 'accuracy': 0.658840000629425, 'val_loss': 0.8717827796936035, 'val_accuracy': 0.7200000286102295}\n",
            "196/196 [==============================] - 2s 10ms/step - loss: 0.9789 - accuracy: 0.6588 - val_loss: 0.8718 - val_accuracy: 0.7200\n",
            "Epoch 15/200\n",
            "194/196 [============================>.] - ETA: 0s - loss: 0.9569 - accuracy: 0.6652{'loss': 0.9571711421012878, 'accuracy': 0.6651999950408936, 'val_loss': 0.8629776239395142, 'val_accuracy': 0.7200000286102295}\n",
            "196/196 [==============================] - 2s 10ms/step - loss: 0.9572 - accuracy: 0.6652 - val_loss: 0.8630 - val_accuracy: 0.7200\n",
            "Epoch 16/200\n",
            "194/196 [============================>.] - ETA: 0s - loss: 0.9262 - accuracy: 0.6785{'loss': 0.9260514974594116, 'accuracy': 0.6784200072288513, 'val_loss': 0.8561689257621765, 'val_accuracy': 0.7049999833106995}\n",
            "196/196 [==============================] - 2s 10ms/step - loss: 0.9261 - accuracy: 0.6784 - val_loss: 0.8562 - val_accuracy: 0.7050\n",
            "Epoch 17/200\n",
            "193/196 [============================>.] - ETA: 0s - loss: 0.9100 - accuracy: 0.6852{'loss': 0.9104569554328918, 'accuracy': 0.6849600076675415, 'val_loss': 0.8662140369415283, 'val_accuracy': 0.7049999833106995}\n",
            "196/196 [==============================] - 2s 10ms/step - loss: 0.9105 - accuracy: 0.6850 - val_loss: 0.8662 - val_accuracy: 0.7050\n",
            "Epoch 18/200\n",
            "191/196 [============================>.] - ETA: 0s - loss: 0.8945 - accuracy: 0.6889{'loss': 0.8954475522041321, 'accuracy': 0.688759982585907, 'val_loss': 0.8378452062606812, 'val_accuracy': 0.6899999976158142}\n",
            "196/196 [==============================] - 2s 10ms/step - loss: 0.8954 - accuracy: 0.6888 - val_loss: 0.8378 - val_accuracy: 0.6900\n",
            "Epoch 19/200\n",
            "194/196 [============================>.] - ETA: 0s - loss: 0.8694 - accuracy: 0.7004{'loss': 0.8698136806488037, 'accuracy': 0.699999988079071, 'val_loss': 0.8336431384086609, 'val_accuracy': 0.7149999737739563}\n",
            "196/196 [==============================] - 2s 10ms/step - loss: 0.8698 - accuracy: 0.7000 - val_loss: 0.8336 - val_accuracy: 0.7150\n",
            "Epoch 20/200\n",
            "192/196 [============================>.] - ETA: 0s - loss: 0.8585 - accuracy: 0.7005{'loss': 0.8587328195571899, 'accuracy': 0.7006800174713135, 'val_loss': 0.8306443095207214, 'val_accuracy': 0.7300000190734863}\n",
            "196/196 [==============================] - 2s 10ms/step - loss: 0.8587 - accuracy: 0.7007 - val_loss: 0.8306 - val_accuracy: 0.7300\n",
            "Epoch 21/200\n",
            "194/196 [============================>.] - ETA: 0s - loss: 0.8344 - accuracy: 0.7112{'loss': 0.8346319794654846, 'accuracy': 0.7109400033950806, 'val_loss': 0.8071281909942627, 'val_accuracy': 0.7250000238418579}\n",
            "196/196 [==============================] - 2s 10ms/step - loss: 0.8346 - accuracy: 0.7109 - val_loss: 0.8071 - val_accuracy: 0.7250\n",
            "Epoch 22/200\n",
            "192/196 [============================>.] - ETA: 0s - loss: 0.8243 - accuracy: 0.7129{'loss': 0.8254581093788147, 'accuracy': 0.7125200033187866, 'val_loss': 0.8477774262428284, 'val_accuracy': 0.7450000047683716}\n",
            "196/196 [==============================] - 2s 10ms/step - loss: 0.8255 - accuracy: 0.7125 - val_loss: 0.8478 - val_accuracy: 0.7450\n",
            "Epoch 23/200\n",
            "194/196 [============================>.] - ETA: 0s - loss: 0.8136 - accuracy: 0.7153{'loss': 0.813901424407959, 'accuracy': 0.7154399752616882, 'val_loss': 0.7888857126235962, 'val_accuracy': 0.7599999904632568}\n",
            "\n",
            "**********training stoped due to validation accuracy greater than 75%!\n",
            "196/196 [==============================] - 2s 10ms/step - loss: 0.8139 - accuracy: 0.7154 - val_loss: 0.7889 - val_accuracy: 0.7600\n"
          ]
        }
      ]
    },
    {
      "cell_type": "code",
      "source": [],
      "metadata": {
        "id": "MbSBcmtmhovE"
      },
      "execution_count": null,
      "outputs": []
    },
    {
      "cell_type": "markdown",
      "metadata": {
        "id": "b5OGE9hzXOiz"
      },
      "source": [
        "<div class=\"alert alert-block alert-info\">\n",
        "<div style=\"direction:rtl;text-align:right;font-family:B Lotus, B Nazanin, Tahoma\"> دوره مقدماتی یادگیری عمیق<br>علیرضا اخوان پور<br>پنج شنبه، ۱۸ و ۲۵ بهمن ۱۳۹۷<br>\n",
        "</div>\n",
        "<a href=\"http://class.vision\">Class.Vision</a> - <a href=\"http://AkhavanPour.ir\">AkhavanPour.ir</a> - <a href=\"https://github.com/Alireza-Akhavan/\">GitHub</a>\n",
        "\n",
        "</div>"
      ]
    },
    {
      "cell_type": "code",
      "execution_count": null,
      "metadata": {
        "id": "ZVXX-9G6XOiz"
      },
      "outputs": [],
      "source": []
    }
  ],
  "metadata": {
    "kernelspec": {
      "display_name": "Python 3 (ipykernel)",
      "language": "python",
      "name": "python3"
    },
    "language_info": {
      "codemirror_mode": {
        "name": "ipython",
        "version": 3
      },
      "file_extension": ".py",
      "mimetype": "text/x-python",
      "name": "python",
      "nbconvert_exporter": "python",
      "pygments_lexer": "ipython3",
      "version": "3.8.5"
    },
    "colab": {
      "provenance": [],
      "collapsed_sections": [],
      "include_colab_link": true
    },
    "accelerator": "GPU",
    "gpuClass": "standard"
  },
  "nbformat": 4,
  "nbformat_minor": 0
}